{
 "cells": [
  {
   "cell_type": "code",
   "execution_count": 1,
   "metadata": {},
   "outputs": [
    {
     "name": "stdout",
     "output_type": "stream",
     "text": [
      "*\n",
      "**\n",
      "***\n",
      "****\n",
      "***\n",
      "**\n",
      "*\n"
     ]
    }
   ],
   "source": [
    "#MAJOR QUESTION 1\n",
    "# QUESTION(A)\n",
    "def print_pattern(rows):\n",
    "    for i in range(1, rows + 1):\n",
    "        print('*' * i)\n",
    "    for i in range(rows - 1, 0, -1):\n",
    "        print('*' * i)\n",
    "\n",
    "\n",
    "print_pattern(4)\n"
   ]
  },
  {
   "cell_type": "code",
   "execution_count": 5,
   "metadata": {},
   "outputs": [
    {
     "name": "stdout",
     "output_type": "stream",
     "text": [
      "even number: 2\n",
      "even number: 4\n",
      "even number: 6\n",
      "even number: 8\n",
      "even number: 10\n",
      "odd number: 1\n",
      "odd number: 3\n",
      "odd number: 5\n",
      "odd number: 7\n",
      "odd number: 9\n",
      "Sum of even numbers: 30\n",
      "Product of odd numbers: 945\n",
      "Absolute difference: 915\n",
      "The result is not a prime number.\n"
     ]
    }
   ],
   "source": [
    "#MAJOR QUESTION 1\n",
    "#QUESTION(B)\n",
    "\n",
    "\n",
    "def prime_number(num):\n",
    "    if num < 2:\n",
    "        return False\n",
    "    for i in range(2, int(num**0.5) + 1):\n",
    "        if num % i == 0:\n",
    "            return False\n",
    "    return True\n",
    "\n",
    "even_sum = sum(even_numbers)\n",
    "even_numbers = []\n",
    "for i in range(5):\n",
    "    while True:\n",
    "        num = int(input(\"Enter an even number: \"))\n",
    "        if num % 2 == 0:\n",
    "            even_numbers.append(num)\n",
    "            break\n",
    "        else:\n",
    "            print(\"Invalid input. Please enter an even number.\")\n",
    "\n",
    "    print(\"even number:\",num)\n",
    "\n",
    "odd_product = 1\n",
    "for num in odd_numbers:\n",
    "    odd_product *= num\n",
    "\n",
    "odd_numbers = []\n",
    "for i in range(5):\n",
    "    while True:\n",
    "        num = int(input(\"Enter an odd number: \"))\n",
    "        if num % 2 != 0:\n",
    "            odd_numbers.append(num)\n",
    "            break\n",
    "        else:\n",
    "            print(\"Invalid\")\n",
    "\n",
    "    print(\"odd number:\",num)\n",
    "\n",
    "diff = abs(even_sum - odd_product)\n",
    "prime_result = prime_number(diff)\n",
    "\n",
    "print(\"Sum of even numbers:\", even_sum)\n",
    "print(\"Product of odd numbers:\", odd_product)\n",
    "print(\"Absolute difference:\", diff)\n",
    "\n",
    "if prime_result:\n",
    "    print(\"The result is a prime number.\")\n",
    "else:\n",
    "    print(\"The result is not a prime number.\")"
   ]
  },
  {
   "cell_type": "code",
   "execution_count": 1,
   "metadata": {},
   "outputs": [
    {
     "name": "stdout",
     "output_type": "stream",
     "text": [
      "Algebraic structure book\n",
      "299.0\n",
      "15\n",
      "4485.0\n"
     ]
    }
   ],
   "source": [
    "#MAJOR QUESTION 1\n",
    "# QUESTION(C)\n",
    "\n",
    "class Item:\n",
    "    def __init__(self, name, price, quantity):\n",
    "        self.name = name\n",
    "        self.price = price\n",
    "        self.quantity = quantity\n",
    "\n",
    "    def getName(self):\n",
    "        return self.name\n",
    "\n",
    "    def getPrice(self):\n",
    "        return self.price\n",
    "\n",
    "    def getQuantity(self):\n",
    "        return self.quantity\n",
    "\n",
    "    def getValue(self):\n",
    "        return self.quantity * self.price\n",
    "    \n",
    "item = Item(\"Algebraic structure book\", 299.00, 15)\n",
    "print(item.getName())       \n",
    "print(item.getPrice())      \n",
    "print(item.getQuantity())    \n",
    "print(item.getValue())       \n",
    "\n"
   ]
  },
  {
   "cell_type": "code",
   "execution_count": 7,
   "metadata": {},
   "outputs": [
    {
     "name": "stdout",
     "output_type": "stream",
     "text": [
      "9\n",
      "99\n",
      "999\n",
      "9999\n",
      "99999\n",
      "999999\n",
      "9999999\n",
      "99999999\n"
     ]
    }
   ],
   "source": [
    "#MAJOR QUESTION 2\n",
    "# QUESTION(A)\n",
    "\n",
    "num_rows = int(input(\"Enter the number of rows: \"))  \n",
    " #entered in input=8\n",
    "\n",
    "for i in range(1, num_rows + 1):\n",
    "    print(\"9\" * i)\n"
   ]
  },
  {
   "cell_type": "code",
   "execution_count": 5,
   "metadata": {},
   "outputs": [
    {
     "name": "stdout",
     "output_type": "stream",
     "text": [
      "133 is not a prime number.\n"
     ]
    }
   ],
   "source": [
    "#MAJOR QUESTION 2\n",
    "# QUESTION(B)\n",
    "\n",
    "number = int(input(\"Enter a number: \"))\n",
    "\n",
    "def prime(number):\n",
    "    if number < 2:\n",
    "        return False\n",
    "\n",
    "    for i in range(2, int(number ** 0.5) + 1):\n",
    "        if number % i == 0:\n",
    "            return False\n",
    "\n",
    "    return True\n",
    "\n",
    "if prime(number):\n",
    "    print(number, \"is a prime number.\")\n",
    "else:\n",
    "    print(number, \"is not a prime number.\")\n"
   ]
  },
  {
   "cell_type": "code",
   "execution_count": 75,
   "metadata": {},
   "outputs": [
    {
     "name": "stdout",
     "output_type": "stream",
     "text": [
      "Item Details:\n",
      "___________________________________________________________\n",
      "| Name          | Price      |  Quantity     | Value      |\n",
      "___________________________________________________________\n",
      "| CHOCOLATES    |      2.250 |            15 |  33.750000 |\n",
      "| MILK          |     32.990 |             5 | 164.950000 |\n",
      "| BUTTER        |      4.750 |            10 |  47.500000 |\n",
      "| VEGETABLE_OIL |    110.500 |             2 | 221.000000 |\n",
      "| FLOUR         |     25.000 |             4 | 100.000000 |\n",
      "____________________________________________________________\n",
      "Total Inventory Value: 567.20\n"
     ]
    }
   ],
   "source": [
    "#MAJOR QUESTION 2\n",
    "# QUESTION(c)\n",
    "\n",
    "class Item:\n",
    "    def __init__(self, name, price, quantity):\n",
    "        self.name = name\n",
    "        self.price = price\n",
    "        self.quantity = quantity\n",
    "\n",
    "    def getName(self):\n",
    "        return self.name\n",
    "\n",
    "    def getPrice(self):\n",
    "        return self.price\n",
    "\n",
    "    def getQuantity(self):\n",
    "        return self.quantity\n",
    "\n",
    "    def getValue(self):\n",
    "        return self.quantity * self.price\n",
    "\n",
    "\n",
    "class Inventory:\n",
    "    def __init__(self):\n",
    "        self.items = []\n",
    "\n",
    "    def generate(self):\n",
    "        CHOCOLATES= Item(\"CHOCOLATES\",2.25 , 15)\n",
    "        MILK= Item(\"MILK\", 32.99, 5)\n",
    "        BUTTER = Item(\"BUTTER\",4.75, 10)\n",
    "        VEGETABLE_OIL= Item(\"VEGETABLE_OIL\",110.50, 2)\n",
    "        FLOUR=Item(\"FLOUR\",25.00, 4)\n",
    "\n",
    "        self.items.append(CHOCOLATES)\n",
    "        self.items.append(MILK)\n",
    "        self.items.append(BUTTER)\n",
    "        self.items.append(VEGETABLE_OIL)\n",
    "        self.items.append(FLOUR)\n",
    "\n",
    "\n",
    "    def getDetails(self):\n",
    "        total_inventory_value = 0.0\n",
    "\n",
    "        print(\"Item Details:\")\n",
    "        print(\"___________________________________________________________\")\n",
    "        print(\"| Name          | Price      |  Quantity     | Value      |\")\n",
    "        print(\"___________________________________________________________\")\n",
    "       \n",
    "\n",
    "        for item in self.items:\n",
    "            name = item.getName()\n",
    "            price = item.getPrice()\n",
    "            quantity = item.getQuantity()\n",
    "            value = item.getValue()\n",
    "            total_inventory_value += value\n",
    "\n",
    "            print(f\"| {name:<13} | {price:>10.3f} | {quantity:>13} | {value:>10f} |\")\n",
    "\n",
    "        print(\"____________________________________________________________\")\n",
    "\n",
    "        print(f\"Total Inventory Value: {total_inventory_value:.2f}\")\n",
    "\n",
    "   \n",
    "inventory = Inventory()\n",
    "inventory.generate()\n",
    "inventory.getDetails()\n"
   ]
  }
 ],
 "metadata": {
  "kernelspec": {
   "display_name": "Python 3",
   "language": "python",
   "name": "python3"
  },
  "language_info": {
   "codemirror_mode": {
    "name": "ipython",
    "version": 3
   },
   "file_extension": ".py",
   "mimetype": "text/x-python",
   "name": "python",
   "nbconvert_exporter": "python",
   "pygments_lexer": "ipython3",
   "version": "3.11.2"
  },
  "orig_nbformat": 4
 },
 "nbformat": 4,
 "nbformat_minor": 2
}
